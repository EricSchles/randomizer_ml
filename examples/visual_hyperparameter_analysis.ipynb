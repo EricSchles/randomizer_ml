{
 "cells": [
  {
   "cell_type": "code",
   "execution_count": 1,
   "id": "4988c9aa",
   "metadata": {},
   "outputs": [],
   "source": [
    "import warnings\n",
    "warnings.filterwarnings('ignore')\n",
    "\n",
    "from honest_ml.trainer import (\n",
    "    RegressionTrainer, ClassificationTrainer, \n",
    "    EvaluateModel, EvaluateModelAndHyperParameters\n",
    ")\n",
    "from sklearn.linear_model import LinearRegression\n",
    "from sklearn.datasets import make_regression\n",
    "from sklearn.linear_model import LogisticRegression\n",
    "from sklearn.datasets import make_classification\n",
    "import pandas as pd\n",
    "import numpy as np\n",
    "\n",
    "clf = LogisticRegression()\n",
    "X, y = make_classification(\n",
    "    n_samples=1000,  n_features=100,\n",
    "    n_informative=90, n_redundant=2,\n",
    "    random_state=0\n",
    ")\n",
    "X = pd.DataFrame(X)\n",
    "y = pd.Series(y)\n",
    "num_trials = 100\n",
    "hyperparameters = {\n",
    "    \"C\": {\n",
    "        \"range\": (1e-3, 2),\n",
    "        \"type\": \"float\",\n",
    "    },\n",
    "    \"tol\": {\n",
    "        \"range\": (1e-3, 2),\n",
    "        \"type\": \"float\"\n",
    "    },\n",
    "    \"max_iter\": {\n",
    "        \"range\": (100, 1000),\n",
    "        \"type\": \"int\"\n",
    "    }\n",
    "}\n",
    "clf_eval = EvaluateModelAndHyperParameters(\n",
    "    \"classification\", \n",
    "    clf, X, y, num_trials,\n",
    "    hyperparameters,\n",
    "    sufficient_compute=True\n",
    ")\n",
    "model_instances = clf_eval.fit_random(\"random\")"
   ]
  },
  {
   "cell_type": "code",
   "execution_count": 2,
   "id": "4603d1ac",
   "metadata": {},
   "outputs": [
    {
     "ename": "KeyError",
     "evalue": "'base'",
     "output_type": "error",
     "traceback": [
      "\u001b[0;31m---------------------------------------------------------------------------\u001b[0m",
      "\u001b[0;31mKeyError\u001b[0m                                  Traceback (most recent call last)",
      "Cell \u001b[0;32mIn [2], line 4\u001b[0m\n\u001b[1;32m      1\u001b[0m \u001b[38;5;28;01mfrom\u001b[39;00m \u001b[38;5;21;01mhonest_ml\u001b[39;00m\u001b[38;5;21;01m.\u001b[39;00m\u001b[38;5;21;01mtrainer\u001b[39;00m \u001b[38;5;28;01mimport\u001b[39;00m AnalyzeClassificationMeasures\n\u001b[1;32m      3\u001b[0m analyzer \u001b[38;5;241m=\u001b[39m AnalyzeClassificationMeasures()\n\u001b[0;32m----> 4\u001b[0m \u001b[43manalyzer\u001b[49m\u001b[38;5;241;43m.\u001b[39;49m\u001b[43mfit\u001b[49m\u001b[43m(\u001b[49m\u001b[43mmodel_instances\u001b[49m\u001b[43m,\u001b[49m\u001b[43m \u001b[49m\u001b[43mX\u001b[49m\u001b[43m,\u001b[49m\u001b[43m \u001b[49m\u001b[43my\u001b[49m\u001b[43m)\u001b[49m\n",
      "File \u001b[0;32m/Library/Frameworks/Python.framework/Versions/3.10/lib/python3.10/site-packages/honest_ml-0.11.0-py3.10.egg/honest_ml/trainer/analyzer.py:74\u001b[0m, in \u001b[0;36mAnalyzeClassificationMeasures.fit\u001b[0;34m(self, model_instances, X, y, model, correlation_function)\u001b[0m\n\u001b[1;32m     68\u001b[0m \u001b[38;5;28mself\u001b[39m\u001b[38;5;241m.\u001b[39mscore_groups \u001b[38;5;241m=\u001b[39m \u001b[38;5;28mself\u001b[39m\u001b[38;5;241m.\u001b[39mget_scores(\n\u001b[1;32m     69\u001b[0m     \u001b[38;5;28mself\u001b[39m\u001b[38;5;241m.\u001b[39mhp_groups, \u001b[38;5;28mself\u001b[39m\u001b[38;5;241m.\u001b[39mclasses\n\u001b[1;32m     70\u001b[0m )\n\u001b[1;32m     71\u001b[0m \u001b[38;5;28mself\u001b[39m\u001b[38;5;241m.\u001b[39mbest_hyperparameters \u001b[38;5;241m=\u001b[39m \u001b[38;5;28mself\u001b[39m\u001b[38;5;241m.\u001b[39mget_best_hyperparameters(\n\u001b[1;32m     72\u001b[0m     model_instances, y\n\u001b[1;32m     73\u001b[0m )\n\u001b[0;32m---> 74\u001b[0m \u001b[38;5;28;43mself\u001b[39;49m\u001b[38;5;241;43m.\u001b[39;49m\u001b[43mget_groups\u001b[49m\u001b[43m(\u001b[49m\u001b[43mmodel\u001b[49m\u001b[38;5;241;43m=\u001b[39;49m\u001b[43mmodel\u001b[49m\u001b[43m,\u001b[49m\u001b[43m \u001b[49m\u001b[43mcorrelation_function\u001b[49m\u001b[38;5;241;43m=\u001b[39;49m\u001b[43mcorrelation_function\u001b[49m\u001b[43m)\u001b[49m\n",
      "File \u001b[0;32m/Library/Frameworks/Python.framework/Versions/3.10/lib/python3.10/site-packages/honest_ml-0.11.0-py3.10.egg/honest_ml/trainer/analyzer.py:87\u001b[0m, in \u001b[0;36mAnalyzeClassificationMeasures.get_groups\u001b[0;34m(self, model, correlation_function)\u001b[0m\n\u001b[1;32m     85\u001b[0m \u001b[38;5;28mself\u001b[39m\u001b[38;5;241m.\u001b[39miqr_groups \u001b[38;5;241m=\u001b[39m \u001b[38;5;28mself\u001b[39m\u001b[38;5;241m.\u001b[39mget_iqrs()\n\u001b[1;32m     86\u001b[0m \u001b[38;5;28mself\u001b[39m\u001b[38;5;241m.\u001b[39mrange_groups \u001b[38;5;241m=\u001b[39m \u001b[38;5;28mself\u001b[39m\u001b[38;5;241m.\u001b[39mget_range_groups()\n\u001b[0;32m---> 87\u001b[0m \u001b[38;5;28mself\u001b[39m\u001b[38;5;241m.\u001b[39mdensity_groups \u001b[38;5;241m=\u001b[39m \u001b[38;5;28;43mself\u001b[39;49m\u001b[38;5;241;43m.\u001b[39;49m\u001b[43mget_density\u001b[49m\u001b[43m(\u001b[49m\u001b[43m)\u001b[49m\n",
      "File \u001b[0;32m/Library/Frameworks/Python.framework/Versions/3.10/lib/python3.10/site-packages/honest_ml-0.11.0-py3.10.egg/honest_ml/trainer/analyzer.py:482\u001b[0m, in \u001b[0;36mAnalyzeClassificationMeasures.get_density\u001b[0;34m(self)\u001b[0m\n\u001b[1;32m    479\u001b[0m         kde \u001b[38;5;241m=\u001b[39m KernelDensity(kernel\u001b[38;5;241m=\u001b[39m\u001b[38;5;124m'\u001b[39m\u001b[38;5;124mgaussian\u001b[39m\u001b[38;5;124m'\u001b[39m, bandwidth\u001b[38;5;241m=\u001b[39m\u001b[38;5;241m0.2\u001b[39m)\u001b[38;5;241m.\u001b[39mfit(X)\n\u001b[1;32m    480\u001b[0m         density \u001b[38;5;241m=\u001b[39m kde\u001b[38;5;241m.\u001b[39mscore_samples(X)\n\u001b[1;32m    481\u001b[0m         density_groups[group]\u001b[38;5;241m.\u001b[39mappend(\n\u001b[0;32m--> 482\u001b[0m             (density, \u001b[38;5;28;43mself\u001b[39;49m\u001b[38;5;241;43m.\u001b[39;49m\u001b[43mgroup_diffs\u001b[49m\u001b[43m[\u001b[49m\u001b[43mgroup\u001b[49m\u001b[43m]\u001b[49m, group)\n\u001b[1;32m    483\u001b[0m         )\n\u001b[1;32m    484\u001b[0m \u001b[38;5;28;01mreturn\u001b[39;00m density_groups\n",
      "\u001b[0;31mKeyError\u001b[0m: 'base'"
     ]
    }
   ],
   "source": [
    "from honest_ml.trainer import AnalyzeClassificationMeasures\n",
    "\n",
    "analyzer = AnalyzeClassificationMeasures()\n",
    "analyzer.fit(model_instances, X, y)"
   ]
  },
  {
   "cell_type": "code",
   "execution_count": null,
   "id": "0e3518d6",
   "metadata": {},
   "outputs": [],
   "source": []
  }
 ],
 "metadata": {
  "kernelspec": {
   "display_name": "Python 3 (ipykernel)",
   "language": "python",
   "name": "python3"
  },
  "language_info": {
   "codemirror_mode": {
    "name": "ipython",
    "version": 3
   },
   "file_extension": ".py",
   "mimetype": "text/x-python",
   "name": "python",
   "nbconvert_exporter": "python",
   "pygments_lexer": "ipython3",
   "version": "3.10.8"
  }
 },
 "nbformat": 4,
 "nbformat_minor": 5
}
