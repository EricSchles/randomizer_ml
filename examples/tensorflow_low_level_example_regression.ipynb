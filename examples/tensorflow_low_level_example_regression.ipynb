{
 "cells": [
  {
   "cell_type": "code",
   "execution_count": 7,
   "id": "caf43a78",
   "metadata": {},
   "outputs": [
    {
     "data": {
      "image/png": "[encoded data removed]",
      "text/plain": [
       "<Figure size 432x288 with 1 Axes>"
      ]
     },
     "metadata": {
      "needs_background": "light"
     },
     "output_type": "display_data"
    },
    {
     "data": {
      "image/png": "[encoded data removed]",
      "text/plain": [
       "<Figure size 432x288 with 1 Axes>"
      ]
     },
     "metadata": {
      "needs_background": "light"
     },
     "output_type": "display_data"
    },
    {
     "data": {
      "image/png": "[encoded data removed]",
      "text/plain": [
       "<Figure size 432x288 with 1 Axes>"
      ]
     },
     "metadata": {
      "needs_background": "light"
     },
     "output_type": "display_data"
    }
   ],
   "source": [
    "import warnings\n",
    "warnings.filterwarnings('ignore')\n",
    "from randomizer_ml.trainer import EvaluateModel\n",
    "from randomizer_ml.experiment import Experiment\n",
    "from randomizer_ml.visualizer import Visualizer\n",
    "from sklearn.datasets import make_regression\n",
    "import pandas as pd\n",
    "import numpy as np\n",
    "\n",
    "from tensorflow.keras.layers import Dense\n",
    "from tensorflow.keras import Model\n",
    "from sklearn.model_selection import train_test_split\n",
    "from tensorflow_addons.losses import pinball_loss\n",
    "import tensorflow as tf\n",
    "import matplotlib.pyplot as plt\n",
    "\n",
    "class NeuralNet(Model):\n",
    "    def __init__(self, X_in, X_out, optimizer):\n",
    "        super(NeuralNet, self).__init__()\n",
    "        self.hidden_layer = Dense(X_in, activation=\"linear\")\n",
    "        self.hidden_layer2 = Dense(X_in, activation=\"linear\")\n",
    "        self.final_layer = Dense(X_out, activation=\"linear\")\n",
    "        self.optimizer = optimizer\n",
    "        self.hyperparameters = {}\n",
    "\n",
    "    def call(self, x):\n",
    "        x = x.values\n",
    "        res = self.hidden_layer(x)\n",
    "        res = self.hidden_layer2(res)\n",
    "        return self.final_layer(res)\n",
    "\n",
    "    def step(self, x, y):\n",
    "        y = y.values\n",
    "        #x = tf.cast(x, tf.float64)\n",
    "        #y = tf.cast(y, tf.float64)\n",
    "        with tf.GradientTape() as tape:\n",
    "            pred = self.call(x)\n",
    "            loss = pinball_loss(y, pred, 0.5)\n",
    "        gradients = tape.gradient(loss, self.trainable_variables)\n",
    "        self.optimizer.apply_gradients(zip(gradients, self.trainable_variables))\n",
    "\n",
    "    def fit(self, x, y, num_steps=2000):\n",
    "        for step in range(num_steps):\n",
    "            nn.step(x, y)\n",
    "           \n",
    "    def predict(self, x):\n",
    "        return self.call(x)\n",
    "   \n",
    "    def get_coefs(self):\n",
    "        weights = self.get_weights()\n",
    "        self.coef_ = weights[0].dot(weights[2]).dot(weights[4])\n",
    "       \n",
    "    def get_params(self):\n",
    "        return {}\n",
    "\n",
    "# data MUST be pandas dataframe and series respectively\n",
    "# honest-ml makes use of the indices of the data, which numpy does\n",
    "# not maintain\n",
    "X, y = make_regression()\n",
    "X = pd.DataFrame(X)\n",
    "y = pd.Series(y)\n",
    "\n",
    "# num_trails should be something like 200\n",
    "# this is not the case because I'm impatient \n",
    "# (and this is just an example)\n",
    "with Experiment(\"quantile_regression3\") as experiment:\n",
    "    num_trials = 50 \n",
    "    learning_rate = 0.0001\n",
    "    optimizer = tf.optimizers.Adam(learning_rate)\n",
    "    nn = NeuralNet(X.shape[1], 1, optimizer)\n",
    "    reg_eval = EvaluateModel(\"regression\", nn, X, y, num_trials)\n",
    "    model_instances = reg_eval.fit_random(\"random\")\n",
    "    experiment.log_model_instances(model_instances)\n",
    "    experiment.log_model(nn)\n",
    "    experiment.log_num_trials(num_trials)\n",
    "\n",
    "viz = Visualizer(\n",
    "    model_instances,\n",
    "    \"regression\",\n",
    "    coef_names=X.columns.tolist(),\n",
    "    output_dir=\"experiments/quantile_regression2/\"\n",
    ")\n",
    "viz.visualize_regression(\n",
    "    bins=len(model_instances)//4,\n",
    "    show_plot=True,\n",
    "    save_plots=True,\n",
    "    formatting=\"png\"\n",
    ")"
   ]
  },
  {
   "cell_type": "code",
   "execution_count": null,
   "id": "72ce3693",
   "metadata": {},
   "outputs": [],
   "source": []
  }
 ],
 "metadata": {
  "kernelspec": {
   "display_name": "Python 3 (ipykernel)",
   "language": "python",
   "name": "python3"
  },
  "language_info": {
   "codemirror_mode": {
    "name": "ipython",
    "version": 3
   },
   "file_extension": ".py",
   "mimetype": "text/x-python",
   "name": "python",
   "nbconvert_exporter": "python",
   "pygments_lexer": "ipython3",
   "version": "3.10.8"
  }
 },
 "nbformat": 4,
 "nbformat_minor": 5
}
