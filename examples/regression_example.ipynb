{
 "cells": [
  {
   "cell_type": "code",
   "execution_count": 1,
   "id": "688c6ee8",
   "metadata": {},
   "outputs": [],
   "source": [
    "from honest_ml.trainer import EvaluateModel\n",
    "from sklearn.linear_model import LinearRegression\n",
    "from sklearn.datasets import make_regression\n",
    "import pandas as pd\n",
    "import numpy as np\n",
    "\n",
    "reg = LinearRegression()\n",
    "X, y = make_regression(\n",
    "    n_samples=2000,  n_features=100,\n",
    "    n_informative=90,\n",
    "    random_state=0\n",
    ")\n",
    "X = pd.DataFrame(X)\n",
    "y = pd.Series(y)\n",
    "num_trials = 200\n",
    "\n",
    "reg_eval = EvaluateModel(\"regression\", reg, X, y, num_trials)\n",
    "model_instances = reg_eval.fit_random(\"random\")"
   ]
  },
  {
   "cell_type": "code",
   "execution_count": 2,
   "id": "f73c4ca1",
   "metadata": {},
   "outputs": [
    {
     "data": {
      "text/plain": [
       "[]"
      ]
     },
     "execution_count": 2,
     "metadata": {},
     "output_type": "execute_result"
    }
   ],
   "source": [
    "model_instances"
   ]
  },
  {
   "cell_type": "code",
   "execution_count": 3,
   "id": "b184aecd",
   "metadata": {},
   "outputs": [
    {
     "data": {
      "text/plain": [
       "array([-126.53915237,   38.22534051, -130.3828016 , ..., -382.61193075,\n",
       "        265.80330935,  223.90038912])"
      ]
     },
     "execution_count": 3,
     "metadata": {},
     "output_type": "execute_result"
    }
   ],
   "source": [
    "regressor.predict(X)"
   ]
  },
  {
   "cell_type": "code",
   "execution_count": null,
   "id": "cfd83ec8",
   "metadata": {},
   "outputs": [],
   "source": []
  }
 ],
 "metadata": {
  "kernelspec": {
   "display_name": "Python 3",
   "language": "python",
   "name": "python3"
  },
  "language_info": {
   "codemirror_mode": {
    "name": "ipython",
    "version": 3
   },
   "file_extension": ".py",
   "mimetype": "text/x-python",
   "name": "python",
   "nbconvert_exporter": "python",
   "pygments_lexer": "ipython3",
   "version": "3.9.5"
  }
 },
 "nbformat": 4,
 "nbformat_minor": 5
}
