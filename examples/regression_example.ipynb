{
 "cells": [
  {
   "cell_type": "code",
   "execution_count": 1,
   "id": "688c6ee8",
   "metadata": {},
   "outputs": [],
   "source": [
    "from honest_ml.trainer import RegressionTrainer\n",
    "from sklearn.linear_model import LinearRegression\n",
    "from sklearn.datasets import make_regression\n",
    "import pandas as pd\n",
    "import numpy as np\n",
    "\n",
    "reg = LinearRegression()\n",
    "X, y = make_regression(\n",
    "   n_samples=2000,  n_features=100,\n",
    "    n_informative=90,\n",
    "    random_state=0\n",
    ")\n",
    "X = pd.DataFrame(X)\n",
    "y = pd.Series(y)\n",
    "num_trials = 200\n",
    "test_size = 200\n",
    "\n",
    "regressor = RegressionTrainer(reg)\n",
    "model_instances = regressor.fit(\n",
    "        X, y, num_trials, test_size,\n",
    "        seed_strategy=\"random\",\n",
    "        training=\"parallel\"\n",
    ")"
   ]
  },
  {
   "cell_type": "code",
   "execution_count": 2,
   "id": "f73c4ca1",
   "metadata": {},
   "outputs": [
    {
     "data": {
      "text/plain": [
       "[LinearRegression(), 2.2431664525603848e-24]"
      ]
     },
     "execution_count": 2,
     "metadata": {},
     "output_type": "execute_result"
    }
   ],
   "source": [
    "model_instances[4]"
   ]
  }
 ],
 "metadata": {
  "kernelspec": {
   "display_name": "Python 3",
   "language": "python",
   "name": "python3"
  },
  "language_info": {
   "codemirror_mode": {
    "name": "ipython",
    "version": 3
   },
   "file_extension": ".py",
   "mimetype": "text/x-python",
   "name": "python",
   "nbconvert_exporter": "python",
   "pygments_lexer": "ipython3",
   "version": "3.9.5"
  }
 },
 "nbformat": 4,
 "nbformat_minor": 5
}
