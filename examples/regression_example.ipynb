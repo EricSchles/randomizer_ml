{
 "cells": [
  {
   "cell_type": "code",
   "execution_count": 3,
   "id": "688c6ee8",
   "metadata": {},
   "outputs": [],
   "source": [
    "from randomizer_ml.trainer import RegressionTrainer\n",
    "from sklearn.linear_model import LinearRegression\n",
    "from sklearn.datasets import make_regression\n",
    "import pandas as pd\n",
    "import numpy as np\n",
    "\n",
    "reg = LinearRegression()\n",
    "X, y = make_regression(\n",
    "    n_samples=1000,  n_features=100,\n",
    "    n_informative=90,\n",
    "    random_state=0\n",
    ")\n",
    "X = pd.DataFrame(X)\n",
    "y = pd.Series(y)\n",
    "num_trials = 10\n",
    "\n",
    "regressor = RegressionTrainer(reg)\n",
    "regressor.fit(X, y, num_trials, 0.1)\n",
    "res = regressor.predict_ci(X.iloc[:10])"
   ]
  },
  {
   "cell_type": "code",
   "execution_count": 5,
   "id": "701a54c5",
   "metadata": {},
   "outputs": [
    {
     "data": {
      "text/plain": [
       "array([ 333.532607  ,  781.63960851, -895.74706737, -377.05770955,\n",
       "       -222.92964507, -109.5973386 , -432.04198559,   73.2606429 ,\n",
       "        217.02735404,  -85.58193619])"
      ]
     },
     "execution_count": 5,
     "metadata": {},
     "output_type": "execute_result"
    }
   ],
   "source": [
    "res[0]"
   ]
  },
  {
   "cell_type": "code",
   "execution_count": 3,
   "id": "b184aecd",
   "metadata": {},
   "outputs": [
    {
     "data": {
      "text/plain": [
       "array([-126.53915237,   38.22534051, -130.3828016 , ..., -382.61193075,\n",
       "        265.80330935,  223.90038912])"
      ]
     },
     "execution_count": 3,
     "metadata": {},
     "output_type": "execute_result"
    }
   ],
   "source": [
    "regressor.predict(X)"
   ]
  },
  {
   "cell_type": "code",
   "execution_count": null,
   "id": "cfd83ec8",
   "metadata": {},
   "outputs": [],
   "source": []
  }
 ],
 "metadata": {
  "kernelspec": {
   "display_name": "Python 3 (ipykernel)",
   "language": "python",
   "name": "python3"
  },
  "language_info": {
   "codemirror_mode": {
    "name": "ipython",
    "version": 3
   },
   "file_extension": ".py",
   "mimetype": "text/x-python",
   "name": "python",
   "nbconvert_exporter": "python",
   "pygments_lexer": "ipython3",
   "version": "3.10.8"
  }
 },
 "nbformat": 4,
 "nbformat_minor": 5
}
